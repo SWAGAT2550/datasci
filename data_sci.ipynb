{
  "nbformat": 4,
  "nbformat_minor": 0,
  "metadata": {
    "colab": {
      "name": "data sci.ipynb",
      "provenance": [],
      "collapsed_sections": [],
      "authorship_tag": "ABX9TyOvfnCVCr+Doia04ZVdeJ22",
      "include_colab_link": true
    },
    "kernelspec": {
      "name": "python3",
      "display_name": "Python 3"
    },
    "language_info": {
      "name": "python"
    }
  },
  "cells": [
    {
      "cell_type": "markdown",
      "metadata": {
        "id": "view-in-github",
        "colab_type": "text"
      },
      "source": [
        "<a href=\"https://colab.research.google.com/github/SWAGAT2550/datasci/blob/main/data_sci.ipynb\" target=\"_parent\"><img src=\"https://colab.research.google.com/assets/colab-badge.svg\" alt=\"Open In Colab\"/></a>"
      ]
    },
    {
      "cell_type": "code",
      "metadata": {
        "colab": {
          "base_uri": "https://localhost:8080/"
        },
        "id": "_GynhZxVzMow",
        "outputId": "c1180d9e-498d-400c-acc8-1bea724a4075"
      },
      "source": [
        "print(\"Hello word\")"
      ],
      "execution_count": null,
      "outputs": [
        {
          "output_type": "stream",
          "text": [
            "Hello word\n"
          ],
          "name": "stdout"
        }
      ]
    },
    {
      "cell_type": "code",
      "metadata": {
        "id": "lSpESrctdK1D"
      },
      "source": [
        ""
      ],
      "execution_count": null,
      "outputs": []
    },
    {
      "cell_type": "code",
      "metadata": {
        "id": "4uzkz0mcdK7N"
      },
      "source": [
        ""
      ],
      "execution_count": null,
      "outputs": []
    },
    {
      "cell_type": "code",
      "metadata": {
        "id": "o1YGR2UndLAI"
      },
      "source": [
        ""
      ],
      "execution_count": null,
      "outputs": []
    },
    {
      "cell_type": "code",
      "metadata": {
        "id": "dr61Nl9adUOx"
      },
      "source": [
        ""
      ],
      "execution_count": null,
      "outputs": []
    },
    {
      "cell_type": "markdown",
      "metadata": {
        "id": "L96jsntTqY2d"
      },
      "source": [
        ""
      ]
    },
    {
      "cell_type": "markdown",
      "metadata": {
        "id": "1uehJqUWAJ-f"
      },
      "source": [
        ""
      ]
    },
    {
      "cell_type": "code",
      "metadata": {
        "id": "7lqKCdALLCVv",
        "colab": {
          "base_uri": "https://localhost:8080/",
          "height": 131
        },
        "outputId": "44b062cb-958f-4eca-a78e-30915bc4c96c"
      },
      "source": [
        "class m():\n",
        "  def__inti__(self):\n",
        "    self.a = 1\n",
        "\n",
        "    def show(self):\n",
        "      print(self.a)\n",
        "m.show()\n"
      ],
      "execution_count": null,
      "outputs": [
        {
          "output_type": "error",
          "ename": "SyntaxError",
          "evalue": "ignored",
          "traceback": [
            "\u001b[0;36m  File \u001b[0;32m\"<ipython-input-4-f4e7b5f759b8>\"\u001b[0;36m, line \u001b[0;32m2\u001b[0m\n\u001b[0;31m    def__inti__(self):\u001b[0m\n\u001b[0m                      ^\u001b[0m\n\u001b[0;31mSyntaxError\u001b[0m\u001b[0;31m:\u001b[0m invalid syntax\n"
          ]
        }
      ]
    },
    {
      "cell_type": "markdown",
      "metadata": {
        "id": "iRNCxBq6qZ_C"
      },
      "source": [
        "#Qno1-Slice & Convert the following text into lowercase & uppercase\n",
        "#input:- My dog maxx performs the sTuntS Under EXperT suPErVIsion. \n",
        "#output:- My dog MAXX performs the stunts under expert spervision."
      ]
    },
    {
      "cell_type": "code",
      "metadata": {
        "id": "qdAU7G7tqbN-"
      },
      "source": [
        ""
      ],
      "execution_count": null,
      "outputs": []
    },
    {
      "cell_type": "markdown",
      "metadata": {
        "id": "SKR3kriDqdOg"
      },
      "source": [
        ""
      ]
    },
    {
      "cell_type": "markdown",
      "metadata": {
        "id": "kq2908TlAQYq"
      },
      "source": [
        "lyrics = \"\"\"\n",
        "Imagine there's no Heaven\n",
        "It's easy if you try\n",
        "No Hell below us\n",
        "Above us only sky\n",
        "\n",
        "Imagine all the people\n",
        "Living for today\n",
        "Aaa haa\n",
        "\n",
        "Imagine there's no countries\n",
        "It isn't hard to do\n",
        "Nothing to kill or die for\n",
        "And no religion too\n",
        "\n",
        "Imagine all the people\n",
        "Living life in peace\n",
        "Yoo hoo\n",
        "\n",
        "You may say I'm a dreamer\n",
        "But I'm not the only one\n",
        "I hope someday you'll join us\n",
        "And the world will be as one\n",
        "\n",
        "Imagine no possessions\n",
        "I wonder if you can\n",
        "No need for greed or hunger\n",
        "A brotherhood of man\n",
        "\n",
        "Imagine all the people\n",
        "Sharing all the world\n",
        "Yoo hoo\n",
        "\n",
        "You may say I'm a dreamer\n",
        "But I'm not the only one\n",
        "I hope someday you'll join us\n",
        "And the world will live as one\n",
        "\"\"\"\n",
        "type(lyrics)"
      ]
    },
    {
      "cell_type": "code",
      "metadata": {
        "colab": {
          "base_uri": "https://localhost:8080/",
          "height": 218
        },
        "id": "Cm6MTMI8AW51",
        "outputId": "7d9d5b16-3c47-471d-cb14-26af9c80d695"
      },
      "source": [
        "lyrics = \"\"\"\n",
        "Imagine there's no Heaven\n",
        "It's easy if you try\n",
        "No Hell below us\n",
        "Above us only sky\n",
        "\n",
        "Imagine all the people\n",
        "Living for today\n",
        "Aaa haa\n",
        "\n",
        "Imagine there's no countries\n",
        "It isn't hard to do\n",
        "Nothing to kill or die for\n",
        "And no religion too\n",
        "\n",
        "Imagine all the people\n",
        "Living life in peace\n",
        "Yoo hoo\n",
        "\n",
        "You may say I'm a dreamer\n",
        "But I'm not the only one\n",
        "I hope someday you'll join us\n",
        "And the world will be as one\n",
        "\n",
        "Imagine no possessions\n",
        "I wonder if you can\n",
        "No need for greed or hunger\n",
        "A brotherhood of man\n",
        "\n",
        "Imagine all the people\n",
        "Sharing all the world\n",
        "Yoo hoo\n",
        "\n",
        "You may say I'm a dreamer\n",
        "But I'm not the only one\n",
        "I hope someday you'll join us\n",
        "And the world will live as one\n",
        "\"\"\"\n",
        "a = lyrics.split()\n",
        "\n",
        "\n",
        "\n",
        "set([a])\n",
        "len(a)"
      ],
      "execution_count": null,
      "outputs": [
        {
          "output_type": "error",
          "ename": "TypeError",
          "evalue": "ignored",
          "traceback": [
            "\u001b[0;31m---------------------------------------------------------------------------\u001b[0m",
            "\u001b[0;31mTypeError\u001b[0m                                 Traceback (most recent call last)",
            "\u001b[0;32m<ipython-input-7-04af1af4f9ab>\u001b[0m in \u001b[0;36m<module>\u001b[0;34m()\u001b[0m\n\u001b[1;32m     41\u001b[0m \u001b[0;34m\u001b[0m\u001b[0m\n\u001b[1;32m     42\u001b[0m \u001b[0;34m\u001b[0m\u001b[0m\n\u001b[0;32m---> 43\u001b[0;31m \u001b[0mset\u001b[0m\u001b[0;34m(\u001b[0m\u001b[0;34m[\u001b[0m\u001b[0ma\u001b[0m\u001b[0;34m]\u001b[0m\u001b[0;34m)\u001b[0m\u001b[0;34m\u001b[0m\u001b[0;34m\u001b[0m\u001b[0m\n\u001b[0m\u001b[1;32m     44\u001b[0m \u001b[0mlen\u001b[0m\u001b[0;34m(\u001b[0m\u001b[0ma\u001b[0m\u001b[0;34m)\u001b[0m\u001b[0;34m\u001b[0m\u001b[0;34m\u001b[0m\u001b[0m\n",
            "\u001b[0;31mTypeError\u001b[0m: unhashable type: 'list'"
          ]
        }
      ]
    },
    {
      "cell_type": "markdown",
      "metadata": {
        "id": "_JPF84BPAKwZ"
      },
      "source": [
        ""
      ]
    },
    {
      "cell_type": "markdown",
      "metadata": {
        "id": "X-Oql8YiAK4M"
      },
      "source": [
        "lyrics = \"\"\"\n",
        "Imagine there's no Heaven\n",
        "It's easy if you try\n",
        "No Hell below us\n",
        "Above us only sky\n",
        "\n",
        "Imagine all the people\n",
        "Living for today\n",
        "Aaa haa\n",
        "\n",
        "Imagine there's no countries\n",
        "It isn't hard to do\n",
        "Nothing to kill or die for\n",
        "And no religion too\n",
        "\n",
        "Imagine all the people\n",
        "Living life in peace\n",
        "Yoo hoo\n",
        "\n",
        "You may say I'm a dreamer\n",
        "But I'm not the only one\n",
        "I hope someday you'll join us\n",
        "And the world will be as one\n",
        "\n",
        "Imagine no possessions\n",
        "I wonder if you can\n",
        "No need for greed or hunger\n",
        "A brotherhood of man\n",
        "\n",
        "Imagine all the people\n",
        "Sharing all the world\n",
        "Yoo hoo\n",
        "\n",
        "You may say I'm a dreamer\n",
        "But I'm not the only one\n",
        "I hope someday you'll join us\n",
        "And the world will live as one\n",
        "\"\"\"\n",
        "type(lyrics)"
      ]
    },
    {
      "cell_type": "markdown",
      "metadata": {
        "id": "144bpL4UqeV-"
      },
      "source": [
        "#Qno1-Slice & Convert the following text into lowercase & uppercase\n",
        "#input:- My dog maxx performs the sTuntS Under EXperT suPErVIsion. \n",
        "#output:- My dog MAXX performs the stunts under expert spervision."
      ]
    },
    {
      "cell_type": "code",
      "metadata": {
        "colab": {
          "base_uri": "https://localhost:8080/",
          "height": 235
        },
        "id": "iGxI8KQIqf5x",
        "outputId": "4f2cf6ff-1cd4-4942-dea1-8734645547cf"
      },
      "source": [
        "a = (\"My dog maxx performs the sTuntS Under EXperT suPErVIsion.\")\n",
        "b = a.split()\n",
        "print(b)\n",
        "for i in b:\n",
        "  if i ==(\"maxx\"):\n",
        "    \n",
        "\n",
        "    \n",
        "\n"
      ],
      "execution_count": null,
      "outputs": [
        {
          "output_type": "stream",
          "text": [
            "['My', 'dog', 'maxx', 'performs', 'the', 'sTuntS', 'Under', 'EXperT', 'suPErVIsion.']\n"
          ],
          "name": "stdout"
        },
        {
          "output_type": "error",
          "ename": "NameError",
          "evalue": "ignored",
          "traceback": [
            "\u001b[0;31m---------------------------------------------------------------------------\u001b[0m",
            "\u001b[0;31mNameError\u001b[0m                                 Traceback (most recent call last)",
            "\u001b[0;32m<ipython-input-10-928eebc42425>\u001b[0m in \u001b[0;36m<module>\u001b[0;34m()\u001b[0m\n\u001b[1;32m      5\u001b[0m   \u001b[0;32mif\u001b[0m \u001b[0mi\u001b[0m \u001b[0;34m==\u001b[0m\u001b[0;34m(\u001b[0m\u001b[0;34m\"maxx\"\u001b[0m\u001b[0;34m)\u001b[0m\u001b[0;34m:\u001b[0m\u001b[0;34m\u001b[0m\u001b[0;34m\u001b[0m\u001b[0m\n\u001b[1;32m      6\u001b[0m \u001b[0;34m\u001b[0m\u001b[0m\n\u001b[0;32m----> 7\u001b[0;31m     \u001b[0mupper\u001b[0m\u001b[0;34m(\u001b[0m\u001b[0mmaxx\u001b[0m\u001b[0;34m)\u001b[0m\u001b[0;34m\u001b[0m\u001b[0;34m\u001b[0m\u001b[0m\n\u001b[0m\u001b[1;32m      8\u001b[0m \u001b[0;34m\u001b[0m\u001b[0m\n",
            "\u001b[0;31mNameError\u001b[0m: name 'upper' is not defined"
          ]
        }
      ]
    },
    {
      "cell_type": "code",
      "metadata": {
        "id": "CVtkuSrJsKcW",
        "colab": {
          "base_uri": "https://localhost:8080/"
        },
        "outputId": "b9ed4d73-af14-486b-c741-58dd49c24929"
      },
      "source": [
        "a = \"My dog maxx performs the sTuntS Under EXperT suPErVIsion. \"\n",
        "b = a[7:11]\n",
        "c = a[12:]\n",
        "print(a[0:6],b.upper(),c.lower())"
      ],
      "execution_count": null,
      "outputs": [
        {
          "output_type": "stream",
          "text": [
            "My dog MAXX performs the stunts under expert supervision. \n"
          ],
          "name": "stdout"
        }
      ]
    },
    {
      "cell_type": "code",
      "metadata": {
        "colab": {
          "base_uri": "https://localhost:8080/",
          "height": 131
        },
        "id": "__qEgc9XEAcr",
        "outputId": "1c4f3f80-411c-4f7c-d65b-653b1dce80b1"
      },
      "source": [
        "a = float(input(\"enter a fractional number:\"))\n",
        "if a is of type (float):\n",
        "  print(a)\n",
        "else:\n",
        "  break\n"
      ],
      "execution_count": null,
      "outputs": [
        {
          "output_type": "error",
          "ename": "SyntaxError",
          "evalue": "ignored",
          "traceback": [
            "\u001b[0;36m  File \u001b[0;32m\"<ipython-input-1-5d9d7646d152>\"\u001b[0;36m, line \u001b[0;32m2\u001b[0m\n\u001b[0;31m    if a is of type (float):\u001b[0m\n\u001b[0m                  ^\u001b[0m\n\u001b[0;31mSyntaxError\u001b[0m\u001b[0;31m:\u001b[0m invalid syntax\n"
          ]
        }
      ]
    },
    {
      "cell_type": "code",
      "metadata": {
        "colab": {
          "base_uri": "https://localhost:8080/",
          "height": 218
        },
        "id": "N4A-rRZ3dWK7",
        "outputId": "cac36cef-982d-4280-b835-54188fd13367"
      },
      "source": [
        "a = {b:[1,2,2,3]}\n",
        "s = {x:[3,4,5]}\n",
        "d = {c:[6,8,9]}\n",
        "print(add[a,s,d])"
      ],
      "execution_count": null,
      "outputs": [
        {
          "output_type": "error",
          "ename": "NameError",
          "evalue": "ignored",
          "traceback": [
            "\u001b[0;31m---------------------------------------------------------------------------\u001b[0m",
            "\u001b[0;31mNameError\u001b[0m                                 Traceback (most recent call last)",
            "\u001b[0;32m<ipython-input-1-6456b0025134>\u001b[0m in \u001b[0;36m<module>\u001b[0;34m()\u001b[0m\n\u001b[0;32m----> 1\u001b[0;31m \u001b[0ma\u001b[0m \u001b[0;34m=\u001b[0m \u001b[0;34m{\u001b[0m\u001b[0mb\u001b[0m\u001b[0;34m:\u001b[0m\u001b[0;34m[\u001b[0m\u001b[0;36m1\u001b[0m\u001b[0;34m,\u001b[0m\u001b[0;36m2\u001b[0m\u001b[0;34m,\u001b[0m\u001b[0;36m2\u001b[0m\u001b[0;34m,\u001b[0m\u001b[0;36m3\u001b[0m\u001b[0;34m]\u001b[0m\u001b[0;34m}\u001b[0m\u001b[0;34m\u001b[0m\u001b[0;34m\u001b[0m\u001b[0m\n\u001b[0m\u001b[1;32m      2\u001b[0m \u001b[0ms\u001b[0m \u001b[0;34m=\u001b[0m \u001b[0;34m{\u001b[0m\u001b[0mx\u001b[0m\u001b[0;34m:\u001b[0m\u001b[0;34m[\u001b[0m\u001b[0;36m3\u001b[0m\u001b[0;34m,\u001b[0m\u001b[0;36m4\u001b[0m\u001b[0;34m,\u001b[0m\u001b[0;36m5\u001b[0m\u001b[0;34m]\u001b[0m\u001b[0;34m}\u001b[0m\u001b[0;34m\u001b[0m\u001b[0;34m\u001b[0m\u001b[0m\n\u001b[1;32m      3\u001b[0m \u001b[0md\u001b[0m \u001b[0;34m=\u001b[0m \u001b[0;34m{\u001b[0m\u001b[0mc\u001b[0m\u001b[0;34m:\u001b[0m\u001b[0;34m[\u001b[0m\u001b[0;36m6\u001b[0m\u001b[0;34m,\u001b[0m\u001b[0;36m8\u001b[0m\u001b[0;34m,\u001b[0m\u001b[0;36m9\u001b[0m\u001b[0;34m]\u001b[0m\u001b[0;34m}\u001b[0m\u001b[0;34m\u001b[0m\u001b[0;34m\u001b[0m\u001b[0m\n\u001b[1;32m      4\u001b[0m \u001b[0mprint\u001b[0m\u001b[0;34m(\u001b[0m\u001b[0madd\u001b[0m\u001b[0;34m[\u001b[0m\u001b[0ma\u001b[0m\u001b[0;34m,\u001b[0m\u001b[0ms\u001b[0m\u001b[0;34m,\u001b[0m\u001b[0md\u001b[0m\u001b[0;34m]\u001b[0m\u001b[0;34m)\u001b[0m\u001b[0;34m\u001b[0m\u001b[0;34m\u001b[0m\u001b[0m\n",
            "\u001b[0;31mNameError\u001b[0m: name 'b' is not defined"
          ]
        }
      ]
    },
    {
      "cell_type": "code",
      "metadata": {
        "colab": {
          "base_uri": "https://localhost:8080/"
        },
        "id": "kTPkXrXOdWQr",
        "outputId": "9bf8ab4a-2c0a-4a2e-f3f4-8febab239bc9"
      },
      "source": [
        "s={'a':2}\n",
        "p={'b':5}\n",
        "d={'c':8}\n",
        "p.update(d)\n",
        "s.update(p)\n",
        "print(s)"
      ],
      "execution_count": null,
      "outputs": [
        {
          "output_type": "stream",
          "text": [
            "{'a': 2, 'b': 5, 'c': 8}\n"
          ],
          "name": "stdout"
        }
      ]
    },
    {
      "cell_type": "code",
      "metadata": {
        "id": "R2_ZNMebfZ_5"
      },
      "source": [
        "#Create a dictionary of address using \"name\", \"address\", \"street\", \"state\" and print all the values using string formater\n",
        "dict ={\"name\": \"john\", \"address\":\"LA\", \"street\":\"14th, \"state\"}"
      ],
      "execution_count": null,
      "outputs": []
    },
    {
      "cell_type": "code",
      "metadata": {
        "colab": {
          "base_uri": "https://localhost:8080/"
        },
        "id": "aemVO0AZfaIR",
        "outputId": "a1e1c417-44be-43cc-d388-2f2906e802fc"
      },
      "source": [
        "d = {'Apple': 10, 'banana': 5,'orange':4,'Guava':6} \n",
        "ans = 1\n",
        "for i in d:\n",
        "  ans = ans*d[i]\n",
        "print(ans)"
      ],
      "execution_count": null,
      "outputs": [
        {
          "output_type": "stream",
          "text": [
            "1200\n"
          ],
          "name": "stdout"
        }
      ]
    },
    {
      "cell_type": "code",
      "metadata": {
        "colab": {
          "base_uri": "https://localhost:8080/"
        },
        "id": "XvOJoRi3iIlW",
        "outputId": "c7767326-4bb5-4b3a-b9a1-c45a378f9ae1"
      },
      "source": [
        "X={'hari':59,'sunny':60}\n",
        "if 'hari' in X:\n",
        "    print(\"Yes,it exist\")\n",
        "else:\n",
        "    print(\"Does not exist\")\n",
        "    "
      ],
      "execution_count": null,
      "outputs": [
        {
          "output_type": "stream",
          "text": [
            "Yes,it exist\n"
          ],
          "name": "stdout"
        }
      ]
    },
    {
      "cell_type": "code",
      "metadata": {
        "colab": {
          "base_uri": "https://localhost:8080/",
          "height": 131
        },
        "id": "v02tSypyiXf_",
        "outputId": "64bf8de9-11ac-425d-b70c-bc61c1c88cff"
      },
      "source": [
        "def checkKey(dict, key):\n",
        "      \n",
        "    if dict.has_key(key):\n",
        "        print \"Present, value =\", dict[key]\n",
        "    else:\n",
        "        print \"Not present\"\n",
        "  \n",
        "# Driver Function\n",
        "dict = {'hari':[],'sunny':[]}\n",
        "key = 'b'\n",
        "checkKey(dict, key)\n",
        "  \n",
        "key = 'w'\n",
        "checkKey(dict, key)"
      ],
      "execution_count": null,
      "outputs": [
        {
          "output_type": "error",
          "ename": "SyntaxError",
          "evalue": "ignored",
          "traceback": [
            "\u001b[0;36m  File \u001b[0;32m\"<ipython-input-7-9019385563a9>\"\u001b[0;36m, line \u001b[0;32m4\u001b[0m\n\u001b[0;31m    print \"Present, value =\", dict[key]\u001b[0m\n\u001b[0m                           ^\u001b[0m\n\u001b[0;31mSyntaxError\u001b[0m\u001b[0;31m:\u001b[0m Missing parentheses in call to 'print'. Did you mean print(\"Present, value =\", dict[key])?\n"
          ]
        }
      ]
    },
    {
      "cell_type": "code",
      "metadata": {
        "colab": {
          "base_uri": "https://localhost:8080/"
        },
        "id": "mp9nar6xk9_j",
        "outputId": "3cfc3deb-d84f-4fe9-877a-81c617ece0f7"
      },
      "source": [
        "d = [('Eng', 88), ('Sci', 90), ('Maths', 97), ('Sst', 82)]\n",
        "d.sort(key = lambda x: x[1])\n",
        "print(d)"
      ],
      "execution_count": null,
      "outputs": [
        {
          "output_type": "stream",
          "text": [
            "[('Sst', 82), ('Eng', 88), ('Sci', 90), ('Maths', 97)]\n"
          ],
          "name": "stdout"
        }
      ]
    },
    {
      "cell_type": "code",
      "metadata": {
        "colab": {
          "base_uri": "https://localhost:8080/"
        },
        "id": "9aN08moYnR_l",
        "outputId": "94a479fc-07ed-4ff8-9a09-137a33b4b1e1"
      },
      "source": [
        "def s(a,b):\n",
        "  if a == 1:\n",
        "    print(\"coming from if'\")\n",
        "  elif b == 1:\n",
        "    print(\"coming from elif\")\n",
        "  else:\n",
        "    print(\"no condition is satisfied\")\n",
        "s(2,4)"
      ],
      "execution_count": null,
      "outputs": [
        {
          "output_type": "stream",
          "text": [
            "no condition is satisfied\n"
          ],
          "name": "stdout"
        }
      ]
    },
    {
      "cell_type": "code",
      "metadata": {
        "colab": {
          "base_uri": "https://localhost:8080/"
        },
        "id": "gChwaxd_nSHQ",
        "outputId": "b71d0754-fca6-42c4-ec99-de9ece105f4e"
      },
      "source": [
        "def avg(x):\n",
        "    s=c=0\n",
        "    for i in x.values():\n",
        "        s = s + i[\"Mark\"][\"phy\"]\n",
        "        c += 1\n",
        "    print(s/c)\n",
        "dict={1:{'name':'Ram','Mark':{'phy':56,'chem':78}},2:{'name':'Hari','Mark':{'phy':76,'chem':88}}} \n",
        "avg(dict)"
      ],
      "execution_count": null,
      "outputs": [
        {
          "output_type": "stream",
          "text": [
            "66.0\n"
          ],
          "name": "stdout"
        }
      ]
    },
    {
      "cell_type": "code",
      "metadata": {
        "id": "2q9Xh37ak-D9"
      },
      "source": [
        ""
      ],
      "execution_count": null,
      "outputs": []
    }
  ]
}