{
 "cells": [
  {
   "cell_type": "code",
   "execution_count": null,
   "metadata": {},
   "outputs": [],
   "source": [
    "#Python Program to Convert Kilometers to Miles\n",
    "#Python Program to Convert Celsius To Fahrenheit\n",
    "#Python Program to Check if a Number is Positive, Negative or 0\n",
    "#Python Program to Check if a Number is Odd or Even\n",
    "#Python Program to Check Leap Year\n",
    "#Python Program to Find the Largest Among Three Numbers\n",
    "#Write a Python Program to check if a number is prime or not\n",
    "#Python program to display all the prime numbers within an interval\n",
    "#Python program to find the factorial of a number.\n",
    "#Python Program to Display the multiplication Table\n",
    "#Python Program to Print the Fibonacci sequence\n",
    "#Python Program to Check Armstrong Number (for 3 digits)"
   ]
  },
  {
   "cell_type": "code",
   "execution_count": 3,
   "metadata": {},
   "outputs": [
    {
     "name": "stdout",
     "output_type": "stream",
     "text": [
      "5\n",
      "3.107520198881293\n"
     ]
    }
   ],
   "source": [
    "#Python Program to Convert Kilometers to Miles\n",
    "kms = int(input())\n",
    "miles = kms / 1.609\n",
    "print(miles)"
   ]
  },
  {
   "cell_type": "code",
   "execution_count": 4,
   "metadata": {},
   "outputs": [
    {
     "name": "stdout",
     "output_type": "stream",
     "text": [
      "0\n",
      "32.0\n"
     ]
    }
   ],
   "source": [
    "#Python Program to Convert Celsius To Fahrenheit\n",
    "cel = int(input())\n",
    "fer = (cel*9/5)+32\n",
    "print(fer)"
   ]
  },
  {
   "cell_type": "code",
   "execution_count": 15,
   "metadata": {},
   "outputs": [
    {
     "name": "stdout",
     "output_type": "stream",
     "text": [
      "4\n",
      "positive\n"
     ]
    }
   ],
   "source": [
    "#Python Program to Check if a Number is Positive, Negative or 0\n",
    "\n",
    "num = int(input())\n",
    "if num > 0:\n",
    "    print(\"positive\")\n",
    "elif num < 0:\n",
    "    \n",
    "    print(\"negative\")\n",
    "else:\n",
    "    print(\"zero\")"
   ]
  },
  {
   "cell_type": "code",
   "execution_count": 21,
   "metadata": {},
   "outputs": [
    {
     "name": "stdout",
     "output_type": "stream",
     "text": [
      "7\n",
      "odd\n"
     ]
    }
   ],
   "source": [
    "#Python Program to Check if a Number is Odd or Even\n",
    "num = int(input())\n",
    "if num % 2 == 0:\n",
    "    print(\"even\")\n",
    "else:\n",
    "    print(\"odd\")"
   ]
  },
  {
   "cell_type": "code",
   "execution_count": 26,
   "metadata": {},
   "outputs": [
    {
     "name": "stdout",
     "output_type": "stream",
     "text": [
      "enter a year:3044\n",
      "is a leaf year\n"
     ]
    }
   ],
   "source": [
    "#Python Program to Check Leap Year\n",
    "year = int(input(\"enter a year:\"))\n",
    "if year % 4 == 0:\n",
    "    print(\"is a leaf year\")\n",
    "elif year % 400 == 0:\n",
    "    print(\"is a leaf year\")\n",
    "elif year % 100 == 0:\n",
    "    print(\"is not a leaf year\")\n",
    "else:\n",
    "    print(\"is not a leaf year\")\n",
    "    \n",
    "    "
   ]
  },
  {
   "cell_type": "code",
   "execution_count": 27,
   "metadata": {},
   "outputs": [
    {
     "name": "stdout",
     "output_type": "stream",
     "text": [
      "2\n",
      "3\n",
      "4\n",
      "c is largest\n"
     ]
    }
   ],
   "source": [
    "#Python Program to Find the Largest Among Three Numbers\n",
    "a = int(input())\n",
    "b = int(input())\n",
    "c = int(input())\n",
    "\n",
    "if a >= b and a>=c:\n",
    "    print(\"a is largest\")\n",
    "elif b >= a and b>= c:\n",
    "    print(\"b is largest\")\n",
    "else:\n",
    "    print(\"c is largest\")\n",
    "    \n",
    "    \n"
   ]
  },
  {
   "cell_type": "code",
   "execution_count": 39,
   "metadata": {},
   "outputs": [
    {
     "name": "stdout",
     "output_type": "stream",
     "text": [
      "Enter a Number2\n",
      "2 is a prime number\n"
     ]
    }
   ],
   "source": [
    "#Write a Python Program to check if a number is prime or not\n",
    "num = int(input(\"Enter a Number\"))\n",
    "\n",
    "if num>1:  \n",
    "    for i in range(2,num):  \n",
    "        if (num % i) == 0:\n",
    "            \n",
    "            print(num,\"is not a prime number\")  \n",
    "            \n",
    "            break\n",
    "    else:\n",
    "        \n",
    "        print(num,\"is a prime number\")  \n",
    "         \n",
    "else: \n",
    "    \n",
    "    print(num,\"is not a prime number\")  "
   ]
  },
  {
   "cell_type": "code",
   "execution_count": 45,
   "metadata": {},
   "outputs": [
    {
     "name": "stdout",
     "output_type": "stream",
     "text": [
      "Prime numbers between 2 and 100 are:\n",
      "2\n",
      "3\n",
      "5\n",
      "7\n",
      "11\n",
      "13\n",
      "17\n",
      "19\n",
      "23\n",
      "29\n",
      "31\n",
      "37\n",
      "41\n",
      "43\n",
      "47\n",
      "53\n",
      "59\n",
      "61\n",
      "67\n",
      "71\n",
      "73\n",
      "79\n",
      "83\n",
      "89\n",
      "97\n"
     ]
    }
   ],
   "source": [
    "#Python program to display all the prime numbers within an interval\n",
    "lower = 2\n",
    "upper = 100\n",
    "\n",
    "print(\"Prime numbers between\", lower, \"and\", upper, \"are:\")\n",
    "\n",
    "for num in range(lower, upper + 1):\n",
    "   \n",
    "   if num > 1:\n",
    "        \n",
    "        \n",
    "        \n",
    "        for i in range(2, num):\n",
    "            \n",
    "            if (num % i) == 0:\n",
    "                break\n",
    "        else:\n",
    "            print(num)"
   ]
  },
  {
   "cell_type": "code",
   "execution_count": 47,
   "metadata": {},
   "outputs": [
    {
     "name": "stdout",
     "output_type": "stream",
     "text": [
      "Enter a number:2\n",
      "Multiplication table of 2 \n",
      "2 x 1 = 2\n",
      "2 x 2 = 4\n",
      "2 x 3 = 6\n",
      "2 x 4 = 8\n",
      "2 x 5 = 10\n",
      "2 x 6 = 12\n",
      "2 x 7 = 14\n",
      "2 x 8 = 16\n",
      "2 x 9 = 18\n",
      "2 x 10 = 20\n"
     ]
    }
   ],
   "source": [
    "#Python Program to Display the multiplication Table\n",
    "\n",
    "num = int(input(\"Enter a number:\"))\n",
    "print (\"Multiplication table of {} \".format(num))\n",
    "for i in range (1, 11):\n",
    "    print (num, \"x\", i, \"=\", num * i)"
   ]
  },
  {
   "cell_type": "code",
   "execution_count": 48,
   "metadata": {},
   "outputs": [
    {
     "name": "stdout",
     "output_type": "stream",
     "text": [
      "Enter a number:7\n",
      "Fibonacci series for 7 \n",
      "0\n",
      "1\n",
      "1\n",
      "2\n",
      "3\n",
      "5\n",
      "8\n",
      "13\n"
     ]
    }
   ],
   "source": [
    "#Python Program to Print the Fibonacci sequence\n",
    "\n",
    "num = int(input(\"Enter a number:\"))\n",
    "a = 0\n",
    "b = 1\n",
    "print (\"Fibonacci series for {} \".format(num))\n",
    "if num == 0:\n",
    "    print (a)\n",
    "elif num == 1:\n",
    "    print (b)\n",
    "else:\n",
    "    print (a)\n",
    "    print (b)\n",
    "    for i in range(2, num + 1):\n",
    "        c = a + b\n",
    "        a, b = b, c\n",
    "        print (c)"
   ]
  },
  {
   "cell_type": "code",
   "execution_count": 53,
   "metadata": {},
   "outputs": [
    {
     "name": "stdout",
     "output_type": "stream",
     "text": [
      "Enter a number: 153\n",
      "153 is an Armstrong number\n"
     ]
    }
   ],
   "source": [
    "#Python Program to Check Armstrong Number (for 3 digits)\n",
    "num = int(input(\"Enter a number: \"))\n",
    "sum = 0\n",
    "a = num\n",
    "\n",
    "while a > 0:\n",
    "    \n",
    "    digit = a % 10\n",
    "    sum += digit ** 3\n",
    "    a //= 10\n",
    "    \n",
    "if num == sum:\n",
    "    \n",
    "    print(num,\"is an Armstrong number\")\n",
    "else:\n",
    "    print(num,\"is not an Armstrong number\")"
   ]
  },
  {
   "cell_type": "code",
   "execution_count": null,
   "metadata": {},
   "outputs": [],
   "source": []
  }
 ],
 "metadata": {
  "kernelspec": {
   "display_name": "Python 3",
   "language": "python",
   "name": "python3"
  },
  "language_info": {
   "codemirror_mode": {
    "name": "ipython",
    "version": 3
   },
   "file_extension": ".py",
   "mimetype": "text/x-python",
   "name": "python",
   "nbconvert_exporter": "python",
   "pygments_lexer": "ipython3",
   "version": "3.8.5"
  }
 },
 "nbformat": 4,
 "nbformat_minor": 4
}
