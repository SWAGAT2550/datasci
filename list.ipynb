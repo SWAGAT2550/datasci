{
 "cells": [
  {
   "cell_type": "markdown",
   "metadata": {
    "slideshow": {
     "slide_type": "slide"
    }
   },
   "source": [
    "# An introduction to Python\n",
    "\n",
    "- Python website: https://www.python.org/ \n",
    "- [Python 3 Standard Library](https://docs.python.org/3/library/index.html])"
   ]
  },
  {
   "cell_type": "markdown",
   "metadata": {
    "slideshow": {
     "slide_type": "slide"
    }
   },
   "source": [
    "## Learning objectives\n",
    "\n",
    "- **Basics** how to print, create variables and save Python code in files\n",
    "- **List** the most common data types in Python\n",
    "- **Explain** how to write conditions and loops in Python\n",
    "- **Use and compare** these concepts in different code examples \n",
    "- **Propose and create** solutions using these concepts in different exercises"
   ]
  },
  {
   "cell_type": "markdown",
   "metadata": {
    "slideshow": {
     "slide_type": "slide"
    }
   },
   "source": [
    "- **Session 2.1** - Functions\n",
    "- **Session 2.2** - Modules\n",
    "- **Session 2.3** - Files"
   ]
  },
  {
   "cell_type": "markdown",
   "metadata": {
    "slideshow": {
     "slide_type": "slide"
    }
   },
   "source": [
    "## What we've learned so far\n",
    "\n",
    "- Simple data types, Collections\n",
    "- Conditional execution\n",
    "- Loops\n",
    "- Functions used so far..."
   ]
  },
  {
   "cell_type": "markdown",
   "metadata": {
    "slideshow": {
     "slide_type": "slide"
    }
   },
   "source": [
    "## Collections"
   ]
  },
  {
   "cell_type": "code",
   "execution_count": 4,
   "metadata": {
    "slideshow": {
     "slide_type": "subslide"
    }
   },
   "outputs": [
    {
     "name": "stdout",
     "output_type": "stream",
     "text": [
      "A tuple: (2, 3, 4, 5)\n",
      "First element of tuple: 2\n"
     ]
    }
   ],
   "source": [
    "## Tuple - immutable\n",
    "example_tuple = (2, 3, 4, 5)\n",
    "print('A tuple:', example_tuple)\n",
    "print('First element of tuple:', example_tuple[0])"
   ]
  },
  {
   "cell_type": "code",
   "execution_count": 5,
   "metadata": {
    "slideshow": {
     "slide_type": "subslide"
    }
   },
   "outputs": [
    {
     "name": "stdout",
     "output_type": "stream",
     "text": [
      "A list: [2, 3, 4, 5]\n",
      "First element of list: 2\n",
      "Appended list: [2, 3, 4, 5, 12]\n",
      "Modified list: [45, 3, 4, 5, 12]\n"
     ]
    }
   ],
   "source": [
    "## List\n",
    "example_list = [2, 3, 4, 5]\n",
    "print('A list:', example_list)\n",
    "print('First element of list:', example_list[0])\n",
    "example_list.append(12)\n",
    "print('Appended list:', example_list)\n",
    "example_list[0] = 45\n",
    "print('Modified list:', example_list)"
   ]
  },
  {
   "cell_type": "code",
   "execution_count": 3,
   "metadata": {
    "slideshow": {
     "slide_type": "subslide"
    }
   },
   "outputs": [
    {
     "name": "stdout",
     "output_type": "stream",
     "text": [
      "Here is a string: ABCDEFGH\n",
      "First character: A\n",
      "Number of characters in text 8\n"
     ]
    }
   ],
   "source": [
    "## String - immutable, tuple of characters\n",
    "text = \"ABCDEFGH\"\n",
    "print('Here is a string:', text)\n",
    "print('First character:', text[0])\n",
    "print('Number of characters in text', len(text))"
   ]
  },
  {
   "cell_type": "code",
   "execution_count": 6,
   "metadata": {
    "slideshow": {
     "slide_type": "subslide"
    }
   },
   "outputs": [
    {
     "name": "stdout",
     "output_type": "stream",
     "text": [
      "A set: {1, 2, 4, 5, 6}\n"
     ]
    }
   ],
   "source": [
    "## Set - unique unordered elements\n",
    "example_set = set([1,2,2,2,2,4,5,6,6,6])\n",
    "print('A set:', example_set)"
   ]
  },
  {
   "cell_type": "code",
   "execution_count": 7,
   "metadata": {
    "slideshow": {
     "slide_type": "subslide"
    }
   },
   "outputs": [
    {
     "name": "stdout",
     "output_type": "stream",
     "text": [
      "A dictionary: {'A': 'APPLE', 'B': 'BALL', 'C': 'CAT', 'D': 'DOLL'}\n",
      "Value associated to key C: CAT\n"
     ]
    }
   ],
   "source": [
    "## Dictionary\n",
    "example_dictionary = {\"A\": \"APPLE\", \n",
    "                      \"B\": \"BALL\", \n",
    "                      \"C\": \"CAT\", \n",
    "                      \"D\": \"DOLL\"}\n",
    "print('A dictionary:', example_dictionary)\n",
    "print('Value associated to key C:', example_dictionary['C'])"
   ]
  },
  {
   "cell_type": "markdown",
   "metadata": {
    "slideshow": {
     "slide_type": "slide"
    }
   },
   "source": [
    "## Conditional execution"
   ]
  },
  {
   "cell_type": "code",
   "execution_count": 8,
   "metadata": {},
   "outputs": [
    {
     "name": "stdout",
     "output_type": "stream",
     "text": [
      "Is 2 < 5? True\n",
      "Is 2 == 5? False\n",
      "Is 2 < 5 and 2 > 1? True\n",
      "x is equal to 2\n"
     ]
    }
   ],
   "source": [
    "x = 2\n",
    "print('Is 2 < 5?', x < 5)\n",
    "print('Is 2 == 5?', x == 5)\n",
    "print('Is 2 < 5 and 2 > 1?', (x < 5) & (x > 1))\n",
    "\n",
    "if x == 2:\n",
    "    print('x is equal to 2')"
   ]
  },
  {
   "cell_type": "markdown",
   "metadata": {
    "slideshow": {
     "slide_type": "slide"
    }
   },
   "source": [
    "## Loops"
   ]
  },
  {
   "cell_type": "code",
   "execution_count": 9,
   "metadata": {
    "slideshow": {
     "slide_type": "-"
    }
   },
   "outputs": [
    {
     "name": "stdout",
     "output_type": "stream",
     "text": [
      "The element in list is: A\n",
      "The element in list is: B\n",
      "The element in list is: C\n",
      "The element in list is: D\n",
      "The element in list is: E\n"
     ]
    }
   ],
   "source": [
    "example_list = ['A', 'B', 'C', 'D', 'E']\n",
    "\n",
    "## Looping through a list\n",
    "for element in example_list:\n",
    "    print(\"The element in list is:\", element)"
   ]
  },
  {
   "cell_type": "markdown",
   "metadata": {
    "slideshow": {
     "slide_type": "slide"
    }
   },
   "source": [
    "## Exercise 2.0.1\n",
    "\n",
    "- Create a string variable with the lyrics of Imagine by John Lennon, 1971. Split into words. Print the total number of words, and the number of unique words. Calculate the frequency of each word and store the result into a dictionary. Print each unique word along with its frequency. Find the most frequent word in the song, print it with its frequency.\n",
    "\n",
    "<center><img src=\"https://upload.wikimedia.org/wikipedia/en/1/1d/John_Lennon_-_Imagine_John_Lennon.jpg\"/></center>"
   ]
  },
  {
   "cell_type": "code",
   "execution_count": 26,
   "metadata": {
    "slideshow": {
     "slide_type": "subslide"
    }
   },
   "outputs": [
    {
     "name": "stdout",
     "output_type": "stream",
     "text": [
      "['Imagine', \"there's\", 'no', 'Heaven', \"It's\", 'easy', 'if', 'you', 'try', 'No', 'Hell', 'below', 'us', 'Above', 'us', 'only', 'sky', 'Imagine', 'all', 'the', 'people', 'Living', 'for', 'today', 'Aaa', 'haa', 'Imagine', \"there's\", 'no', 'countries', 'It', \"isn't\", 'hard', 'to', 'do', 'Nothing', 'to', 'kill', 'or', 'die', 'for', 'And', 'no', 'religion', 'too', 'Imagine', 'all', 'the', 'people', 'Living', 'life', 'in', 'peace', 'Yoo', 'hoo', 'You', 'may', 'say', \"I'm\", 'a', 'dreamer', 'But', \"I'm\", 'not', 'the', 'only', 'one', 'I', 'hope', 'someday', \"you'll\", 'join', 'us', 'And', 'the', 'world', 'will', 'be', 'as', 'one', 'Imagine', 'no', 'possessions', 'I', 'wonder', 'if', 'you', 'can', 'No', 'need', 'for', 'greed', 'or', 'hunger', 'A', 'brotherhood', 'of', 'man', 'Imagine', 'all', 'the', 'people', 'Sharing', 'all', 'the', 'world', 'Yoo', 'hoo', 'You', 'may', 'say', \"I'm\", 'a', 'dreamer', 'But', \"I'm\", 'not', 'the', 'only', 'one', 'I', 'hope', 'someday', \"you'll\", 'join', 'us', 'And', 'the', 'world', 'will', 'live', 'as', 'one']\n",
      "Imagine -> 6\n",
      "there's -> 2\n",
      "no -> 4\n",
      "Heaven -> 1\n",
      "It's -> 1\n",
      "easy -> 1\n",
      "if -> 2\n",
      "you -> 2\n",
      "try -> 1\n",
      "No -> 2\n",
      "Hell -> 1\n",
      "below -> 1\n",
      "us -> 4\n",
      "Above -> 1\n",
      "only -> 3\n",
      "sky -> 1\n",
      "all -> 4\n",
      "the -> 8\n",
      "people -> 3\n",
      "Living -> 2\n",
      "for -> 3\n",
      "today -> 1\n",
      "Aaa -> 1\n",
      "haa -> 1\n",
      "countries -> 1\n",
      "It -> 1\n",
      "isn't -> 1\n",
      "hard -> 1\n",
      "to -> 2\n",
      "do -> 1\n",
      "Nothing -> 1\n",
      "kill -> 1\n",
      "or -> 2\n",
      "die -> 1\n",
      "And -> 3\n",
      "religion -> 1\n",
      "too -> 1\n",
      "life -> 1\n",
      "in -> 1\n",
      "peace -> 1\n",
      "Yoo -> 2\n",
      "hoo -> 2\n",
      "You -> 2\n",
      "may -> 2\n",
      "say -> 2\n",
      "I'm -> 4\n",
      "a -> 2\n",
      "dreamer -> 2\n",
      "But -> 2\n",
      "not -> 2\n",
      "one -> 4\n",
      "I -> 3\n",
      "hope -> 2\n",
      "someday -> 2\n",
      "you'll -> 2\n",
      "join -> 2\n",
      "world -> 3\n",
      "will -> 2\n",
      "be -> 1\n",
      "as -> 2\n",
      "possessions -> 1\n",
      "wonder -> 1\n",
      "can -> 1\n",
      "need -> 1\n",
      "greed -> 1\n",
      "hunger -> 1\n",
      "A -> 1\n",
      "brotherhood -> 1\n",
      "of -> 1\n",
      "man -> 1\n",
      "Sharing -> 1\n",
      "live -> 1\n"
     ]
    }
   ],
   "source": [
    "lyrics = \"\"\"\n",
    "Imagine there's no Heaven\n",
    "It's easy if you try\n",
    "No Hell below us\n",
    "Above us only sky\n",
    "\n",
    "Imagine all the people\n",
    "Living for today\n",
    "Aaa haa\n",
    "\n",
    "Imagine there's no countries\n",
    "It isn't hard to do\n",
    "Nothing to kill or die for\n",
    "And no religion too\n",
    "\n",
    "Imagine all the people\n",
    "Living life in peace\n",
    "Yoo hoo\n",
    "\n",
    "You may say I'm a dreamer\n",
    "But I'm not the only one\n",
    "I hope someday you'll join us\n",
    "And the world will be as one\n",
    "\n",
    "Imagine no possessions\n",
    "I wonder if you can\n",
    "No need for greed or hunger\n",
    "A brotherhood of man\n",
    "\n",
    "Imagine all the people\n",
    "Sharing all the world\n",
    "Yoo hoo\n",
    "\n",
    "You may say I'm a dreamer\n",
    "But I'm not the only one\n",
    "I hope someday you'll join us\n",
    "And the world will live as one\n",
    "\"\"\"\n",
    "type(lyrics)\n",
    "a = lyrics.split()\n",
    "print (a)\n",
    "len(a)\n",
    "set(a)\n",
    "frequency = {}\n",
    "for item in a:\n",
    "    if (item  in frequency):\n",
    "        frequency[item]  += 1\n",
    "    else:\n",
    "        frequency[item] = 1\n",
    "        \n",
    "for key, value in frequency.items():\n",
    "    print(\"%s -> %d\" % (key, value))\n",
    "\n",
    "    \n",
    "    \n"
   ]
  },
  {
   "cell_type": "code",
   "execution_count": 31,
   "metadata": {},
   "outputs": [
    {
     "name": "stdout",
     "output_type": "stream",
     "text": [
      "Note: you may need to restart the kernel to use updated packages.\n"
     ]
    },
    {
     "name": "stderr",
     "output_type": "stream",
     "text": [
      "WARNING: Retrying (Retry(total=4, connect=None, read=None, redirect=None, status=None)) after connection broken by 'NewConnectionError('<pip._vendor.urllib3.connection.HTTPSConnection object at 0x000002C52DD5B100>: Failed to establish a new connection: [Errno 11001] getaddrinfo failed')': /simple/counter/\n",
      "WARNING: Retrying (Retry(total=3, connect=None, read=None, redirect=None, status=None)) after connection broken by 'NewConnectionError('<pip._vendor.urllib3.connection.HTTPSConnection object at 0x000002C52DC44CD0>: Failed to establish a new connection: [Errno 11001] getaddrinfo failed')': /simple/counter/\n",
      "WARNING: Retrying (Retry(total=2, connect=None, read=None, redirect=None, status=None)) after connection broken by 'NewConnectionError('<pip._vendor.urllib3.connection.HTTPSConnection object at 0x000002C52DCF42B0>: Failed to establish a new connection: [Errno 11001] getaddrinfo failed')': /simple/counter/\n",
      "WARNING: Retrying (Retry(total=1, connect=None, read=None, redirect=None, status=None)) after connection broken by 'NewConnectionError('<pip._vendor.urllib3.connection.HTTPSConnection object at 0x000002C52DCF41F0>: Failed to establish a new connection: [Errno 11001] getaddrinfo failed')': /simple/counter/\n",
      "WARNING: Retrying (Retry(total=0, connect=None, read=None, redirect=None, status=None)) after connection broken by 'NewConnectionError('<pip._vendor.urllib3.connection.HTTPSConnection object at 0x000002C52DCF44F0>: Failed to establish a new connection: [Errno 11001] getaddrinfo failed')': /simple/counter/\n",
      "ERROR: Could not find a version that satisfies the requirement counter (from versions: none)\n",
      "ERROR: No matching distribution found for counter\n"
     ]
    }
   ],
   "source": [
    "pip install counter\n"
   ]
  },
  {
   "cell_type": "code",
   "execution_count": 32,
   "metadata": {},
   "outputs": [
    {
     "ename": "ImportError",
     "evalue": "cannot import name 'counter' from 'collections' (C:\\Users\\user\\anaconda3\\lib\\collections\\__init__.py)",
     "output_type": "error",
     "traceback": [
      "\u001b[1;31m---------------------------------------------------------------------------\u001b[0m",
      "\u001b[1;31mImportError\u001b[0m                               Traceback (most recent call last)",
      "\u001b[1;32m<ipython-input-32-b165e3e1ba30>\u001b[0m in \u001b[0;36m<module>\u001b[1;34m\u001b[0m\n\u001b[1;32m----> 1\u001b[1;33m \u001b[1;32mfrom\u001b[0m \u001b[0mcollections\u001b[0m \u001b[1;32mimport\u001b[0m \u001b[0mcounter\u001b[0m\u001b[1;33m\u001b[0m\u001b[1;33m\u001b[0m\u001b[0m\n\u001b[0m",
      "\u001b[1;31mImportError\u001b[0m: cannot import name 'counter' from 'collections' (C:\\Users\\user\\anaconda3\\lib\\collections\\__init__.py)"
     ]
    }
   ],
   "source": [
    "from collections import counter"
   ]
  },
  {
   "cell_type": "code",
   "execution_count": null,
   "metadata": {},
   "outputs": [],
   "source": []
  },
  {
   "cell_type": "code",
   "execution_count": null,
   "metadata": {},
   "outputs": [],
   "source": [
    " s = ['Imagine', \"there's\", 'no', 'Heaven', \"It's\", 'easy', 'if', 'you', 'try', 'No', 'Hell', 'below', 'us', 'Above', 'us', 'only', 'sky', 'Imagine', 'all', 'the', 'people', 'Living', 'for', 'today', 'Aaa', 'haa', 'Imagine', \"there's\", 'no', 'countries', 'It', \"isn't\", 'hard', 'to', 'do', 'Nothing', 'to', 'kill', 'or', 'die', 'for', 'And', 'no', 'religion', 'too', 'Imagine', 'all', 'the', 'people', 'Living', 'life', 'in', 'peace', 'Yoo', 'hoo', 'You', 'may', 'say', \"I'm\", 'a', 'dreamer', 'But', \"I'm\", 'not', 'the', 'only', 'one', 'I', 'hope', 'someday', \"you'll\", 'join', 'us', 'And', 'the', 'world', 'will', 'be', 'as', 'one', 'Imagine', 'no', 'possessions', 'I', 'wonder', 'if', 'you', 'can', 'No', 'need', 'for', 'greed', 'or', 'hunger', 'A', 'brotherhood', 'of', 'man', 'Imagine', 'all', 'the', 'people', 'Sharing', 'all', 'the', 'world', 'Yoo', 'hoo', 'You', 'may', 'say', \"I'm\", 'a', 'dreamer', 'But', \"I'm\", 'not', 'the', 'only', 'one', 'I', 'hope', 'someday', \"you'll\", 'join', 'us', 'And', 'the', 'world', 'will', 'live', 'as', 'one']\n",
    "    "
   ]
  },
  {
   "cell_type": "code",
   "execution_count": null,
   "metadata": {},
   "outputs": [],
   "source": []
  },
  {
   "cell_type": "code",
   "execution_count": 14,
   "metadata": {},
   "outputs": [
    {
     "name": "stdout",
     "output_type": "stream",
     "text": [
      "['A', 'Aaa', 'Above', 'And', 'But', 'Heaven', 'Hell', 'I', \"I'm\", 'Imagine', 'It', \"It's\", 'Living', 'No', 'Nothing', 'Sharing', 'Yoo', 'You', 'a', 'all', 'as', 'be', 'below', 'brotherhood', 'can', 'countries', 'die', 'do', 'dreamer', 'easy', 'for', 'greed', 'haa', 'hard', 'hoo', 'hope', 'hunger', 'if', 'in', \"isn't\", 'join', 'kill', 'life', 'live', 'man', 'may', 'need', 'no', 'not', 'of', 'one', 'only', 'or', 'peace', 'people', 'possessions', 'religion', 'say', 'sky', 'someday', 'the', \"there's\", 'to', 'today', 'too', 'try', 'us', 'will', 'wonder', 'world', 'you', \"you'll\"]\n"
     ]
    },
    {
     "data": {
      "text/plain": [
       "72"
      ]
     },
     "execution_count": 14,
     "metadata": {},
     "output_type": "execute_result"
    }
   ],
   "source": [
    "b = ['A',\n",
    " 'Aaa',\n",
    " 'Above',\n",
    " 'And',\n",
    " 'But',\n",
    " 'Heaven',\n",
    " 'Hell',\n",
    " 'I',\n",
    " \"I'm\",\n",
    " 'Imagine',\n",
    " 'It',\n",
    " \"It's\",\n",
    " 'Living',\n",
    " 'No',\n",
    " 'Nothing',\n",
    " 'Sharing',\n",
    " 'Yoo',\n",
    " 'You',\n",
    " 'a',\n",
    " 'all',\n",
    " 'as',\n",
    " 'be',\n",
    " 'below',\n",
    " 'brotherhood',\n",
    " 'can',\n",
    " 'countries',\n",
    " 'die',\n",
    " 'do',\n",
    " 'dreamer',\n",
    " 'easy',\n",
    " 'for',\n",
    " 'greed',\n",
    " 'haa',\n",
    " 'hard',\n",
    " 'hoo',\n",
    " 'hope',\n",
    " 'hunger',\n",
    " 'if',\n",
    " 'in',\n",
    " \"isn't\",\n",
    " 'join',\n",
    " 'kill',\n",
    " 'life',\n",
    " 'live',\n",
    " 'man',\n",
    " 'may',\n",
    " 'need',\n",
    " 'no',\n",
    " 'not',\n",
    " 'of',\n",
    " 'one',\n",
    " 'only',\n",
    " 'or',\n",
    " 'peace',\n",
    " 'people',\n",
    " 'possessions',\n",
    " 'religion',\n",
    " 'say',\n",
    " 'sky',\n",
    " 'someday',\n",
    " 'the',\n",
    " \"there's\",\n",
    " 'to',\n",
    " 'today',\n",
    " 'too',\n",
    " 'try',\n",
    " 'us',\n",
    " 'will',\n",
    " 'wonder',\n",
    " 'world',\n",
    " 'you',\n",
    " \"you'll\"]\n",
    "count= {}\n",
    "for i in b:\n",
    "    if i in count:\n",
    "        count[i] += 1\n",
    "    else:\n",
    "        count[i] = 1\n",
    "print(b)\n",
    "len(b)\n",
    "\n"
   ]
  },
  {
   "cell_type": "code",
   "execution_count": 22,
   "metadata": {},
   "outputs": [
    {
     "name": "stdout",
     "output_type": "stream",
     "text": [
      "A -> 1\n",
      "Aaa -> 1\n",
      "Above -> 1\n",
      "And -> 1\n",
      "But -> 1\n",
      "Heaven -> 1\n",
      "Hell -> 1\n",
      "I -> 1\n",
      "I'm -> 1\n",
      "Imagine -> 1\n",
      "It -> 1\n",
      "It's -> 1\n",
      "Living -> 1\n",
      "No -> 1\n",
      "Nothing -> 1\n",
      "Sharing -> 1\n",
      "Yoo -> 1\n",
      "You -> 1\n",
      "a -> 1\n",
      "all -> 1\n",
      "as -> 1\n",
      "be -> 1\n",
      "below -> 1\n",
      "brotherhood -> 1\n",
      "can -> 1\n",
      "countries -> 1\n",
      "die -> 1\n",
      "do -> 1\n",
      "dreamer -> 1\n",
      "easy -> 1\n",
      "for -> 1\n",
      "greed -> 1\n",
      "haa -> 1\n",
      "hard -> 1\n",
      "hoo -> 1\n",
      "hope -> 1\n",
      "hunger -> 1\n",
      "if -> 1\n",
      "in -> 1\n",
      "isn't -> 1\n",
      "join -> 1\n",
      "kill -> 1\n",
      "life -> 1\n",
      "live -> 1\n",
      "man -> 1\n",
      "may -> 1\n",
      "need -> 1\n",
      "no -> 1\n",
      "not -> 1\n",
      "of -> 1\n",
      "one -> 1\n",
      "only -> 1\n",
      "or -> 1\n",
      "peace -> 1\n",
      "people -> 1\n",
      "possessions -> 1\n",
      "religion -> 1\n",
      "say -> 1\n",
      "sky -> 1\n",
      "someday -> 1\n",
      "the -> 1\n",
      "there's -> 1\n",
      "to -> 1\n",
      "today -> 1\n",
      "too -> 1\n",
      "try -> 1\n",
      "us -> 1\n",
      "will -> 1\n",
      "wonder -> 1\n",
      "world -> 1\n",
      "you -> 1\n",
      "you'll -> 1\n"
     ]
    }
   ],
   "source": [
    "b = ['A', 'Aaa', 'Above', 'And', 'But', 'Heaven', 'Hell', 'I', \"I'm\", 'Imagine', 'It', \"It's\", 'Living', 'No', 'Nothing', 'Sharing', 'Yoo', 'You', 'a', 'all', 'as', 'be', 'below', 'brotherhood', 'can', 'countries', 'die', 'do', 'dreamer', 'easy', 'for', 'greed', 'haa', 'hard', 'hoo', 'hope', 'hunger', 'if', 'in', \"isn't\", 'join', 'kill', 'life', 'live', 'man', 'may', 'need', 'no', 'not', 'of', 'one', 'only', 'or', 'peace', 'people', 'possessions', 'religion', 'say', 'sky', 'someday', 'the', \"there's\", 'to', 'today', 'too', 'try', 'us', 'will', 'wonder', 'world', 'you', \"you'll\"]\n",
    "\n",
    "frequency = {}\n",
    "for item in b:\n",
    "    if (item  in frequency):\n",
    "        frequency[item]  += 1\n",
    "    else:\n",
    "        frequency[item] = 1\n",
    "        \n",
    "for key, value in frequency.items():\n",
    "    print(\"%s -> %d\" % (key, value))\n"
   ]
  },
  {
   "cell_type": "code",
   "execution_count": null,
   "metadata": {},
   "outputs": [],
   "source": []
  },
  {
   "cell_type": "markdown",
   "metadata": {
    "slideshow": {
     "slide_type": "slide"
    }
   },
   "source": [
    "## Next session\n",
    "\n",
    "- Go to next session: [Session 6](Session_6.ipynb)"
   ]
  }
 ],
 "metadata": {
  "celltoolbar": "Slideshow",
  "kernelspec": {
   "display_name": "Python 3",
   "language": "python",
   "name": "python3"
  },
  "language_info": {
   "codemirror_mode": {
    "name": "ipython",
    "version": 3
   },
   "file_extension": ".py",
   "mimetype": "text/x-python",
   "name": "python",
   "nbconvert_exporter": "python",
   "pygments_lexer": "ipython3",
   "version": "3.8.5"
  }
 },
 "nbformat": 4,
 "nbformat_minor": 1
}
