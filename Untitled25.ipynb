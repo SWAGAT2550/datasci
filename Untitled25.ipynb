{
 "cells": [
  {
   "cell_type": "code",
   "execution_count": 9,
   "metadata": {},
   "outputs": [
    {
     "name": "stdout",
     "output_type": "stream",
     "text": [
      "a\n"
     ]
    }
   ],
   "source": [
    "#short hand if else\n",
    "a = 100\n",
    "b = 50\n",
    "#if a>b: print(\"a is greater then b \")\n",
    "\n",
    "print(\"a\") if a>b  else print(\"equal\") if a==b  else print(\"b\")"
   ]
  },
  {
   "cell_type": "code",
   "execution_count": 5,
   "metadata": {},
   "outputs": [
    {
     "name": "stdout",
     "output_type": "stream",
     "text": [
      "2\n",
      "2\n",
      "it is a squre\n"
     ]
    }
   ],
   "source": [
    "l = int(input())\n",
    "b = int(input())\n",
    "if l==b: print(\"it is a squre\")"
   ]
  },
  {
   "cell_type": "code",
   "execution_count": 7,
   "metadata": {},
   "outputs": [
    {
     "name": "stdout",
     "output_type": "stream",
     "text": [
      "a is greater then b \n"
     ]
    }
   ],
   "source": [
    "p = 10\n",
    "q = 20\n",
    "if a > b :\n",
    "    print(\"a is greater then b \")\n",
    "elif a==b:\n",
    "    \n",
    "    print(\"a is equal to b\")\n",
    "else:\n",
    "    print(\"b is greater then a\")\n",
    "    "
   ]
  },
  {
   "cell_type": "code",
   "execution_count": 13,
   "metadata": {},
   "outputs": [
    {
     "name": "stdout",
     "output_type": "stream",
     "text": [
      "210.0\n"
     ]
    }
   ],
   "source": [
    "#transfer statement\n",
    "\n",
    "# in continue ,it is used to skip the code inside a loop bt it will not terminate the loop and continue till the last iteration only skiping that given statement\n",
    "\n",
    "#que 4\n",
    "\n",
    "for i in range (1,21):\n",
    "    n = i*(i+1)/2\n",
    "print(n)\n",
    "\n",
    "\n",
    "\n"
   ]
  },
  {
   "cell_type": "code",
   "execution_count": 22,
   "metadata": {},
   "outputs": [
    {
     "name": "stdout",
     "output_type": "stream",
     "text": [
      "3\n",
      "0\n",
      "hi\n",
      "4.6\n",
      "['0', 'hi', '4.6']\n",
      "['0', '4.6', 'hi']\n",
      "['hi', '4.6', '0']\n"
     ]
    }
   ],
   "source": [
    "\n",
    "a = []\n",
    "num = int(input())\n",
    "for i in range (num):\n",
    "    e = input()\n",
    "    a.append(e)\n",
    "print(a)\n",
    "a.sort()\n",
    "print(a)\n",
    "a.sort(reverse = True)\n",
    "print(a)"
   ]
  },
  {
   "cell_type": "code",
   "execution_count": 24,
   "metadata": {},
   "outputs": [
    {
     "name": "stdout",
     "output_type": "stream",
     "text": [
      "[0, 1, 2, 3, 4]\n"
     ]
    }
   ],
   "source": [
    "\n",
    "\n",
    "n = [i for i in range (0,10) if i<5]\n",
    "print(n)"
   ]
  },
  {
   "cell_type": "code",
   "execution_count": null,
   "metadata": {},
   "outputs": [],
   "source": []
  }
 ],
 "metadata": {
  "kernelspec": {
   "display_name": "Python 3",
   "language": "python",
   "name": "python3"
  },
  "language_info": {
   "codemirror_mode": {
    "name": "ipython",
    "version": 3
   },
   "file_extension": ".py",
   "mimetype": "text/x-python",
   "name": "python",
   "nbconvert_exporter": "python",
   "pygments_lexer": "ipython3",
   "version": "3.8.5"
  }
 },
 "nbformat": 4,
 "nbformat_minor": 4
}
